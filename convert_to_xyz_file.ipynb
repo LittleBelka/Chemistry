{
 "cells": [
  {
   "cell_type": "code",
   "execution_count": 33,
   "metadata": {},
   "outputs": [],
   "source": [
    "import pybel\n",
    "import sys\n",
    "import os.path\n",
    "\n",
    "\n",
    "def main(input_file, output_file):\n",
    "    if os.path.exists(input_file):\n",
    "        input_format = extract_format(input_file)\n",
    "        if input_format is None:\n",
    "            sys.stderr.write(\"Not acceptable format of input file\")\n",
    "        else:\n",
    "            output_format = extract_format(output_file, \"output\")\n",
    "            if output_format is None:\n",
    "                sys.stderr.write(\"Not acceptable format of output file\")\n",
    "            else:\n",
    "                convert(input_file, input_format, output_file, output_format)\n",
    "    else:\n",
    "        sys.stderr.write(\"File '{0}' does not exist\".format(input_file))\n",
    "\n",
    "\n",
    "def extract_format(filename, action=\"input\"):\n",
    "    filename = filename.split(\".\")\n",
    "    file_format = filename[len(filename)-1]\n",
    "    if action == \"input\":\n",
    "        return file_format if file_format in (\"cdx\", \"sdf\", \"mol\") else None\n",
    "    else:\n",
    "        return file_format if file_format in (\"xyz\", \"sdf\", \"mol\") else None\n",
    "    \n",
    "        \n",
    "def convert(input_file, input_format, output_file, output_format):\n",
    "    mol = pybel.readfile(input_format, input_file).next()\n",
    "    mol.make3D()\n",
    "    mol.write(output_format, output_file)\n",
    "\n",
    "\n",
    "input_file = \"input/example.cdx\"\n",
    "output_file = \"output/example.xyz\"\n",
    "\n",
    "main(input_file, output_file)\n"
   ]
  }
 ],
 "metadata": {
  "kernelspec": {
   "display_name": "Python 2",
   "language": "python",
   "name": "python2"
  },
  "language_info": {
   "codemirror_mode": {
    "name": "ipython",
    "version": 2
   },
   "file_extension": ".py",
   "mimetype": "text/x-python",
   "name": "python",
   "nbconvert_exporter": "python",
   "pygments_lexer": "ipython2",
   "version": "2.7.15rc1"
  }
 },
 "nbformat": 4,
 "nbformat_minor": 2
}
