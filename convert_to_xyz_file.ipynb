{
 "cells": [
  {
   "cell_type": "code",
   "execution_count": 6,
   "metadata": {},
   "outputs": [
    {
     "name": "stdout",
     "output_type": "stream",
     "text": [
      "name:  pybel_jpg_cdx_new_structures_25_05_2017/2.cdxml\n"
     ]
    }
   ],
   "source": [
    "import pybel\n",
    "import sys\n",
    "import os.path\n",
    "import subprocess\n",
    "\n",
    "\n",
    "def main(input_file, output_file):\n",
    "    if os.path.exists(input_file):\n",
    "        input_format = extract_format(input_file)\n",
    "        if input_format is None:\n",
    "            sys.stderr.write(\"Not acceptable format of input file\")\n",
    "        else:\n",
    "            output_format = extract_format(output_file, \"output\")\n",
    "            if output_format is None:\n",
    "                sys.stderr.write(\"Not acceptable format of output file\")\n",
    "            else:\n",
    "                if input_format == \"cdx\":\n",
    "                    cdxml_file_path = output_file.split(\"/\")[0:-1]\n",
    "                    cdxml_file_path = \"/\".join(cdxml_file_path)\n",
    "                    cdxml_file = input_file.split(\"/\")[-1]\n",
    "                    cdxml_file = cdxml_file_path + \"/\" + cdxml_file[0:(len(cdxml_file)-3)] + \"cdxml\"\n",
    "                    subprocess.run([\"obabel\", input_file, \"-O\", cdxml_file], check=True)\n",
    "                    input_format = \"cdxml\"\n",
    "                    convert(cdxml_file, input_format, output_file, output_format)\n",
    "                else:\n",
    "                    convert(input_file, input_format, output_file, output_format)\n",
    "    else:\n",
    "        sys.stderr.write(\"File '{0}' does not exist\".format(input_file))\n",
    "\n",
    "\n",
    "def extract_format(filename, action=\"input\"):\n",
    "    filename = filename.split(\".\")\n",
    "    file_format = filename[len(filename)-1]\n",
    "    if action == \"input\":\n",
    "        return file_format if file_format in (\"cdx\", \"sdf\", \"mol\", \"cdxml\") else None\n",
    "    else:\n",
    "        return file_format if file_format in (\"xyz\", \"sdf\", \"mol\") else None\n",
    "    \n",
    "        \n",
    "def convert(input_file, input_format, output_file, output_format):\n",
    "    mol = list(pybel.readfile(input_format, input_file))[0]\n",
    "    mol.make3D()\n",
    "    mol.write(output_format, output_file)\n",
    "\n",
    "\n",
    "input_file = \"cdx_new_structures_25_05_2017/2.cdx\"\n",
    "output_file = \"pybel_jpg_cdx_new_structures_25_05_2017/2.xyz\"\n",
    "\n",
    "main(input_file, output_file)\n"
   ]
  },
  {
   "cell_type": "code",
   "execution_count": null,
   "metadata": {},
   "outputs": [],
   "source": [
    "import openbabel\n",
    "allmols3 = []\n",
    "obconversion = openbabel.OBConversion()\n",
    "obconversion.SetInFormat(\"cdx\")\n",
    "obmol = openbabel.OBMol()\n",
    "notatend = obconversion.ReadFile(obmol, \"cdx_new_structures_25_05_2017/1.cdx\")\n",
    "while notatend:\n",
    "    allmols3.append(obmol)\n",
    "    obmol = openbabel.OBMol()\n",
    "    notatend = obconversion.Read(obmol)"
   ]
  }
 ],
 "metadata": {
  "kernelspec": {
   "display_name": "Python 3",
   "language": "python",
   "name": "python3"
  },
  "language_info": {
   "codemirror_mode": {
    "name": "ipython",
    "version": 3
   },
   "file_extension": ".py",
   "mimetype": "text/x-python",
   "name": "python",
   "nbconvert_exporter": "python",
   "pygments_lexer": "ipython3",
   "version": "3.6.5"
  }
 },
 "nbformat": 4,
 "nbformat_minor": 2
}
