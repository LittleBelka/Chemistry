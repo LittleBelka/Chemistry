{
 "cells": [
  {
   "cell_type": "code",
   "execution_count": 170,
   "metadata": {},
   "outputs": [
    {
     "name": "stdout",
     "output_type": "stream",
     "text": [
      "[[1. 0.]\n",
      " [0. 1.]]\n",
      "[[ 0.70710678  0.        ]\n",
      " [ 0.          0.70710678]\n",
      " [-0.70710678  0.        ]\n",
      " [ 0.         -0.70710678]]\n"
     ]
    }
   ],
   "source": [
    "import numpy as np\n",
    "from numpy import linalg as LA\n",
    "\n",
    "def example_from_article_to_generate_coordinate_matrix():\n",
    "    X = np.matrix('0.5 0.5; 0.5 -0.5; -0.5 -0.5; -0.5 0.5')\n",
    "    X_T = X.getT()\n",
    "    G = X*X_T\n",
    "    W, V = LA.eig(G)\n",
    "    index_nul = []\n",
    "    k = 0\n",
    "    for i in range(0, len(W)):\n",
    "        if W[i] < pow(10, -15):\n",
    "            index_nul.append(i)\n",
    "            V = np.delete(V, i-k, axis=1)\n",
    "            k += 1\n",
    "\n",
    "    if index_nul:\n",
    "        W = np.delete(W, index_nul, axis=0)\n",
    "        \n",
    "#     print(W)\n",
    "#     print(V)\n",
    "    \n",
    "    L = np.diag((np.sqrt(W)))\n",
    "    print(L)\n",
    "    print(V*L)\n",
    "    \n",
    "example_from_article_to_generate_coordinate_matrix()"
   ]
  },
  {
   "cell_type": "markdown",
   "metadata": {},
   "source": [
    "### Parse .mol file"
   ]
  },
  {
   "cell_type": "code",
   "execution_count": 171,
   "metadata": {},
   "outputs": [
    {
     "name": "stdout",
     "output_type": "stream",
     "text": [
      "5   4\n",
      "[6, 1, 1, 1, 1]\n",
      "[0.9499, 0.0585, -0.0637, 0.5858, -0.9697, -0.0088, 0.5858, 0.6202, 0.7993, 0.5858, 0.5251, -0.9817, 2.0421, 0.0585, -0.0637]\n",
      "[{'atom_1': 1, 'atom_2': 4, 'number_of_bonds': 1, 'distance': 1.0922492252228884}, {'atom_1': 1, 'atom_2': 5, 'number_of_bonds': 1, 'distance': 1.0922}, {'atom_1': 2, 'atom_2': 1, 'number_of_bonds': 1, 'distance': 1.0921437908993485}, {'atom_1': 3, 'atom_2': 1, 'number_of_bonds': 1, 'distance': 1.0921742992764478}]\n"
     ]
    }
   ],
   "source": [
    "import re\n",
    "\n",
    "\n",
    "van_der_Waals_radii = [0.001, 31, 28, 128, 96, 84, 73, 71, 66, 57, 58, 166, 141, 121, 111, 107, 105, 102, 106, 203, 176, 170, 160,\n",
    "            153, 139, 139, 132, 126, 124, 132, 122, 122, 120, 119, 120, 120, 116, 220, 195, 190, 175, 164, 154, 147,\n",
    "            146, 142, 139, 145, 144, 142, 139, 139, 138, 139, 140, 244, 215, 207, 204, 203, 201, 199, 198, 196, 194,\n",
    "            192, 192, 189, 190, 187, 187, 175, 170, 162, 151, 144, 141, 136, 136, 132, 145, 146, 148, 140, 150, 150,\n",
    "            260, 221, 215, 206, 200, 196, 190, 187, 180, 169]\n",
    "\n",
    "elements = [\"H\", \"He\", \"Li\", \"Be\", \"B\", \"C\", \"N\", \"O\", \"F\", \"Ne\", \"Na\", \"Mg\", \"Al\", \"Si\", \n",
    "            \"P\", \"S\", \"Cl\", \"Ar\", \"K\", \"Ca\"]\n",
    "\n",
    "\n",
    "def read_file(filename):\n",
    "    lines = []\n",
    "    with open(filename, 'r') as f:\n",
    "        lines = f.readlines()\n",
    "    \n",
    "    is_counts_line = False\n",
    "    is_atom_block = 0\n",
    "    is_bond_block = 0\n",
    "    atoms_number = 0\n",
    "    bonds_number = 0\n",
    "    atoms = []\n",
    "    coordinates = []\n",
    "    list_of_bonds = []\n",
    "\n",
    "    for i in range(0, len(lines)):\n",
    "        t = lines[i].lstrip().replace(\"\\n\", \"\")\n",
    "        if not is_counts_line:\n",
    "            counts_line = re.findall(\"V\\d\", t)\n",
    "            if len(counts_line) == 1:\n",
    "                t = t.split(\" \")\n",
    "                t = [x for x in t if x != \"\"]\n",
    "                atoms_number = int(t[0])\n",
    "                bonds_number = int(t[1])\n",
    "                is_counts_line = True\n",
    "\n",
    "        elif is_atom_block < atoms_number:\n",
    "            atom_block_numbers = re.findall(\"\\d\", t)\n",
    "            atom_block_element = [x for x in elements if len(re.findall(x, t)) == 1]\n",
    "            if len(atom_block_element) == 1 and len(atom_block_numbers) > 2:\n",
    "                t = t.split(\" \")\n",
    "                t = [x for x in t if x != \"\"]\n",
    "                coordinates.append(float(t[0]))\n",
    "                coordinates.append(float(t[1]))\n",
    "                coordinates.append(float(t[2]))\n",
    "                atoms.append(elements.index(t[3])+1)\n",
    "                is_atom_block += 1\n",
    "\n",
    "        elif is_bond_block < bonds_number:\n",
    "            bond_block_letters = re.findall(\"[A-Za-z]\", t)\n",
    "            bond_block_numbers = re.findall(\"\\d\", t)\n",
    "            if len(bond_block_letters) == 0 and len(bond_block_numbers) > 2:\n",
    "                t = t.split(\" \")\n",
    "                t = [x for x in t if x != \"\"]\n",
    "                distance = ((coordinates[3*(int(t[0])-1)] - coordinates[3*(int(t[1])-1)]) ** 2 + \\\n",
    "                             (coordinates[3*(int(t[0])-1) + 1] - coordinates[3*(int(t[1])-1) + 1]) ** 2 + \\\n",
    "                             (coordinates[3*(int(t[0])-1) + 2] - coordinates[3*(int(t[1])-1) + 2]) ** 2) ** 0.5\n",
    "                list_of_bonds.append({\"atom_1\": int(t[0]), \"atom_2\": int(t[1]), \\\n",
    "                                      \"number_of_bonds\": int(t[2]), \"distance\": distance})\n",
    "                is_bond_block += 1\n",
    "    \n",
    "    return atoms_number, bonds_number, atoms, coordinates, list_of_bonds\n",
    "\n",
    "\n",
    "atoms_number, bonds_number, atoms, coordinates, list_of_bonds = read_file(\"output/metan.mol\")\n",
    "\n",
    "print(atoms_number, \" \", bonds_number)\n",
    "print(atoms)\n",
    "print(coordinates)\n",
    "print(list_of_bonds)"
   ]
  },
  {
   "cell_type": "markdown",
   "metadata": {},
   "source": [
    "### First step of algorithm - generation of distance bounds matrix"
   ]
  },
  {
   "cell_type": "code",
   "execution_count": 195,
   "metadata": {},
   "outputs": [
    {
     "name": "stdout",
     "output_type": "stream",
     "text": [
      "[[0.         1.09214379 1.0921743  1.09224923 1.0922    ]\n",
      " [1.09214379 0.         0.002      0.002      0.002     ]\n",
      " [1.0921743  0.002      0.         0.002      0.002     ]\n",
      " [1.09224923 0.002      0.002      0.         0.002     ]\n",
      " [1.0922     0.002      0.002      0.002      0.        ]]\n",
      "[[  0.           1.09214379   1.0921743    1.09224923   1.0922    ]\n",
      " [  1.09214379   0.         510.55949535 510.55949535 510.55949535]\n",
      " [  1.0921743  510.55949535   0.         510.55949535 510.55949535]\n",
      " [  1.09224923 510.55949535 510.55949535   0.         510.55949535]\n",
      " [  1.0922     510.55949535 510.55949535 510.55949535   0.        ]]\n"
     ]
    }
   ],
   "source": [
    "def adjust_default_upper_bound(atoms, list_of_bonds):\n",
    "    list_of_bonds = sorted(list_of_bonds, key=lambda k: k[\"distance\"], reverse=True) \n",
    "    atoms = list(set(atoms))\n",
    "    radii = [van_der_Waals_radii[x-1] for x in atoms]\n",
    "    radii = sorted(radii, reverse=True)\n",
    "    bond = radii[0] + radii[1] if len(radii) > 1 else radii[0]\n",
    "    bond += list_of_bonds[0][\"distance\"]\n",
    "    bond *= 6\n",
    "    return bond\n",
    "\n",
    "\n",
    "def generate_distance_bounds_matrix(atoms, list_of_bonds, upper_bound=600):\n",
    "    lower_bounds_matrix = np.asarray(np.zeros((len(atoms), len(atoms))))\n",
    "    upper_bounds_matrix = np.asarray(np.zeros((len(atoms), len(atoms))))\n",
    "    for i in range(0,len(lower_bounds_matrix[1])):\n",
    "        for j in range(i+1, len(lower_bounds_matrix[1])):\n",
    "            bond = False\n",
    "            for a in list_of_bonds:\n",
    "                if not bond and ((a[\"atom_1\"]-1 == i and a[\"atom_2\"]-1 == j) or \\\n",
    "                    (a[\"atom_2\"]-1 == i and a[\"atom_1\"]-1 == j)):\n",
    "#                     lower_bounds_matrix[i,j] = ((coordinates[3*i] - coordinates[3*j]) ** 2 + \\\n",
    "#                                          (coordinates[3*i + 1] - coordinates[3*j + 1]) ** 2 + \\\n",
    "#                                          (coordinates[3*i + 2] - coordinates[3*j + 2]) ** 2) ** 0.5\n",
    "                    \n",
    "                    lower_bounds_matrix[i,j] = a[\"distance\"]\n",
    "                    upper_bounds_matrix[i,j] = lower_bounds_matrix[i,j]\n",
    "                    bond = True\n",
    "            if not bond:\n",
    "                upper_bounds_matrix[i,j] = upper_bound\n",
    "                lower_bounds_matrix[i,j] = van_der_Waals_radii[atoms[i]-1] + van_der_Waals_radii[atoms[j]-1]\n",
    "\n",
    "    lower_bounds_matrix = lower_bounds_matrix + lower_bounds_matrix.T - np.diag(lower_bounds_matrix.diagonal())\n",
    "    upper_bounds_matrix = upper_bounds_matrix + upper_bounds_matrix.T - np.diag(upper_bounds_matrix.diagonal())\n",
    "    \n",
    "    return lower_bounds_matrix, upper_bounds_matrix\n",
    "    \n",
    "\n",
    "upper_bound = adjust_default_upper_bound(atoms, list_of_bonds)\n",
    "lower_bounds_matrix, upper_bounds_matrix = generate_distance_bounds_matrix(atoms, \\\n",
    "                                                                           list_of_bonds, upper_bound)\n",
    "print(lower_bounds_matrix)\n",
    "print(upper_bounds_matrix)"
   ]
  }
 ],
 "metadata": {
  "kernelspec": {
   "display_name": "Python 3",
   "language": "python",
   "name": "python3"
  },
  "language_info": {
   "codemirror_mode": {
    "name": "ipython",
    "version": 3
   },
   "file_extension": ".py",
   "mimetype": "text/x-python",
   "name": "python",
   "nbconvert_exporter": "python",
   "pygments_lexer": "ipython3",
   "version": "3.6.5"
  }
 },
 "nbformat": 4,
 "nbformat_minor": 2
}
