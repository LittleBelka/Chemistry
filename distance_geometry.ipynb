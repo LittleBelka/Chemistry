{
 "cells": [
  {
   "cell_type": "code",
   "execution_count": 92,
   "metadata": {},
   "outputs": [
    {
     "name": "stdout",
     "output_type": "stream",
     "text": [
      "[1. 1.]\n",
      "[[ 0.70710678  0.        ]\n",
      " [ 0.          0.70710678]\n",
      " [-0.70710678  0.        ]\n",
      " [ 0.         -0.70710678]]\n",
      "[[1. 0.]\n",
      " [0. 1.]]\n",
      "[[ 0.70710678  0.        ]\n",
      " [ 0.          0.70710678]\n",
      " [-0.70710678  0.        ]\n",
      " [ 0.         -0.70710678]]\n"
     ]
    }
   ],
   "source": [
    "import numpy as np\n",
    "from numpy import linalg as LA\n",
    "\n",
    "def example_from_article_to_generate_coordinate_matrix():\n",
    "    X = np.matrix('0.5 0.5; 0.5 -0.5; -0.5 -0.5; -0.5 0.5')\n",
    "    X_T = X.getT()\n",
    "    G = X*X_T\n",
    "    W, V = LA.eig(G)\n",
    "    index_nul = []\n",
    "    k = 0\n",
    "    for i in range(0, len(w)):\n",
    "        if w[i] < pow(10, -15):\n",
    "            index_nul.append(i)\n",
    "            V = np.delete(V, i-k, axis=1)\n",
    "            k += 1\n",
    "\n",
    "    if index_nul:\n",
    "        W = np.delete(W, index_nul, axis=0)\n",
    "        \n",
    "#     print(W)\n",
    "#     print(V)\n",
    "    \n",
    "    L = np.diag((np.sqrt(W)))\n",
    "    print(L)\n",
    "    print(V*L)\n",
    "    \n",
    "example_from_article_to_generate_coordinate_matrix()"
   ]
  }
 ],
 "metadata": {
  "kernelspec": {
   "display_name": "Python 3",
   "language": "python",
   "name": "python3"
  },
  "language_info": {
   "codemirror_mode": {
    "name": "ipython",
    "version": 3
   },
   "file_extension": ".py",
   "mimetype": "text/x-python",
   "name": "python",
   "nbconvert_exporter": "python",
   "pygments_lexer": "ipython3",
   "version": "3.6.5"
  }
 },
 "nbformat": 4,
 "nbformat_minor": 2
}
